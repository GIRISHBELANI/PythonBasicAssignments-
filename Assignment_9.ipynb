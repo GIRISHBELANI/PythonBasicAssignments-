{
 "cells": [
  {
   "cell_type": "markdown",
   "id": "dad5a22b",
   "metadata": {},
   "source": [
    "# Ques 1."
   ]
  },
  {
   "cell_type": "markdown",
   "id": "cde4e04b",
   "metadata": {},
   "source": [
    "To what does a relative path refer?"
   ]
  },
  {
   "cell_type": "markdown",
   "id": "fa968999",
   "metadata": {},
   "source": [
    "## Soln 1."
   ]
  },
  {
   "cell_type": "markdown",
   "id": "f0c51d05",
   "metadata": {},
   "source": [
    "Relative paths are relative to the current working directory."
   ]
  },
  {
   "cell_type": "markdown",
   "id": "763e7ce4",
   "metadata": {},
   "source": [
    "# Ques 2.\n"
   ]
  },
  {
   "cell_type": "markdown",
   "id": "c2b72239",
   "metadata": {},
   "source": [
    "What does an absolute path start with your operating system?"
   ]
  },
  {
   "cell_type": "markdown",
   "id": "0aeeab21",
   "metadata": {},
   "source": [
    "## Soln 2."
   ]
  },
  {
   "cell_type": "code",
   "execution_count": null,
   "id": "8a86da50",
   "metadata": {},
   "outputs": [],
   "source": [
    "Absolute paths start with the root folder, such as / or C:\\.\n",
    "    \n",
    "Absolute path names always begin with the slash (/) symbol. Traces the path from the current directory through its parent or its subdirectories and files. An absolute path name represents the complete name of a directory or file from the /(root) directory downward."
   ]
  },
  {
   "cell_type": "markdown",
   "id": "c9728f01",
   "metadata": {},
   "source": [
    "# Ques 3."
   ]
  },
  {
   "cell_type": "markdown",
   "id": "624e2218",
   "metadata": {},
   "source": [
    "What do the functions os.getcwd() and os.chdir() do?"
   ]
  },
  {
   "cell_type": "markdown",
   "id": "0d4d6ab0",
   "metadata": {},
   "source": [
    "## Soln 3."
   ]
  },
  {
   "cell_type": "markdown",
   "id": "cae670b9",
   "metadata": {},
   "source": [
    "The os.getcwd() function returns the current working directory i.e., allows you to see what your current working directory is.\n",
    "\n",
    "The os.chdir() function changes the current working directory i.e., allows you to set the current working directory to a path of your choice"
   ]
  },
  {
   "cell_type": "markdown",
   "id": "003f3577",
   "metadata": {},
   "source": [
    "# Ques 4."
   ]
  },
  {
   "cell_type": "markdown",
   "id": "2a628d8a",
   "metadata": {},
   "source": [
    "What are the . and .. folders?"
   ]
  },
  {
   "cell_type": "markdown",
   "id": "656293dc",
   "metadata": {},
   "source": [
    "## Soln 4."
   ]
  },
  {
   "cell_type": "markdown",
   "id": "def726ec",
   "metadata": {},
   "source": [
    "The . folder is the current folder, and .. is the parent folder."
   ]
  },
  {
   "cell_type": "markdown",
   "id": "70b47119",
   "metadata": {},
   "source": [
    "# Ques 5."
   ]
  },
  {
   "cell_type": "markdown",
   "id": "1ec40632",
   "metadata": {},
   "source": [
    "In C:\\bacon\\eggs\\spam.txt, which part is the dir name, and which part is the base name?"
   ]
  },
  {
   "cell_type": "markdown",
   "id": "e99920be",
   "metadata": {},
   "source": [
    "## Soln 5."
   ]
  },
  {
   "cell_type": "markdown",
   "id": "a780bc4b",
   "metadata": {},
   "source": [
    "C:\\bacon\\eggs is the dir name, while spam.txt is the base name."
   ]
  },
  {
   "cell_type": "markdown",
   "id": "01f25d14",
   "metadata": {},
   "source": [
    "# Ques 6."
   ]
  },
  {
   "cell_type": "markdown",
   "id": "1964cd81",
   "metadata": {},
   "source": [
    "What are the three “mode” arguments that can be passed to the open() function?"
   ]
  },
  {
   "cell_type": "markdown",
   "id": "57f4e370",
   "metadata": {},
   "source": [
    "## Soln 6."
   ]
  },
  {
   "cell_type": "markdown",
   "id": "fa63674f",
   "metadata": {},
   "source": [
    "The string 'r' for read mode, 'w' for write mode, and 'a' for append mode\n",
    "\n",
    "r : Opens the file in read-only mode. Starts reading from the beginning of the file and is the default mode for the open() function.\n",
    "\n",
    "w : Opens in write-only mode. The pointer is placed at the beginning of the file and this will overwrite any existing file with the same name. It will create a new file if one with the same name doesn't exist.\n",
    "\n",
    "a : Opens a file for appending new information to it. The pointer is placed at the end of the file. A new file is created if one with the same name doesn't exist."
   ]
  },
  {
   "cell_type": "markdown",
   "id": "e7a162f2",
   "metadata": {},
   "source": [
    "# Ques 7."
   ]
  },
  {
   "cell_type": "markdown",
   "id": "73d5614f",
   "metadata": {},
   "source": [
    "What happens if an existing file is opened in write mode?"
   ]
  },
  {
   "cell_type": "markdown",
   "id": "48ccbcd8",
   "metadata": {},
   "source": [
    "## Soln 7."
   ]
  },
  {
   "cell_type": "markdown",
   "id": "b4487ce9",
   "metadata": {},
   "source": [
    "If a file with the same name already exists, its contents are discarded and the file is treated as a new empty file."
   ]
  },
  {
   "cell_type": "markdown",
   "id": "9d764922",
   "metadata": {},
   "source": [
    "# Ques 8."
   ]
  },
  {
   "cell_type": "markdown",
   "id": "6e970cf1",
   "metadata": {},
   "source": [
    "How do you tell the difference between read() and readlines()?"
   ]
  },
  {
   "cell_type": "markdown",
   "id": "9109dc42",
   "metadata": {},
   "source": [
    "## Soln 8."
   ]
  },
  {
   "cell_type": "markdown",
   "id": "36ecf387",
   "metadata": {},
   "source": [
    "The read() method returns the file’s entire contents as a single string value. \n",
    "\n",
    "The readlines() method returns a list of strings, where each string is a line from the file’s contents."
   ]
  },
  {
   "cell_type": "markdown",
   "id": "83629c52",
   "metadata": {},
   "source": [
    "# Ques 9."
   ]
  },
  {
   "cell_type": "markdown",
   "id": "2067ae98",
   "metadata": {},
   "source": [
    "What data structure does a shelf value resemble?"
   ]
  },
  {
   "cell_type": "markdown",
   "id": "1a79a4a8",
   "metadata": {},
   "source": [
    "## Soln 9."
   ]
  },
  {
   "cell_type": "markdown",
   "id": "f17a561f",
   "metadata": {},
   "source": [
    "A shelf value resembles a dictionary value; it has keys and values, along with keys() and values() methods that work similarly to the dictionary methods of the same names."
   ]
  },
  {
   "cell_type": "code",
   "execution_count": null,
   "id": "5f0a5df5",
   "metadata": {},
   "outputs": [],
   "source": []
  }
 ],
 "metadata": {
  "kernelspec": {
   "display_name": "Python 3 (ipykernel)",
   "language": "python",
   "name": "python3"
  },
  "language_info": {
   "codemirror_mode": {
    "name": "ipython",
    "version": 3
   },
   "file_extension": ".py",
   "mimetype": "text/x-python",
   "name": "python",
   "nbconvert_exporter": "python",
   "pygments_lexer": "ipython3",
   "version": "3.9.7"
  }
 },
 "nbformat": 4,
 "nbformat_minor": 5
}
