{
 "cells": [
  {
   "cell_type": "markdown",
   "id": "dad5a22b",
   "metadata": {},
   "source": [
    "# Ques 1."
   ]
  },
  {
   "cell_type": "markdown",
   "id": "cde4e04b",
   "metadata": {},
   "source": [
    "How do you distinguish between shutil.copy() and shutil.copytree()?"
   ]
  },
  {
   "cell_type": "markdown",
   "id": "fa968999",
   "metadata": {},
   "source": [
    "## Soln 1."
   ]
  },
  {
   "cell_type": "markdown",
   "id": "f0c51d05",
   "metadata": {},
   "source": [
    "The shutil.copy() function will copy a single file, while shutil.copytree() will copy an entire folder, along with all its contents (every folder and files contained in it).\n",
    "\n",
    "**shutil.copy()** is used to copy the contents of a file from one file to another file/folder, it primary takes two arguments src,dest, src represents the file to be copied where as destination refers to the file/folder to where the src data should be copied, if dest is a folder name the src with exact name will be copied to the dest folder, if its a file then the contents of src will be copied to dest where dest retains it name.\n",
    "\n",
    "**shutil.copytree()** is used to copy the entire contents of a folder to other folder. it also takes two arguments src & dest, it copies all the content recursively and stores it in dest. the important catch here is dest must not exist prior to this and it will be created during the copy operation. Permissions and times of directories are copied with shutil.copystat() and individual files are copied using shutil.copy2() by default which can be modified using copy_function attribute."
   ]
  },
  {
   "cell_type": "markdown",
   "id": "763e7ce4",
   "metadata": {},
   "source": [
    "# Ques 2.\n"
   ]
  },
  {
   "cell_type": "markdown",
   "id": "c2b72239",
   "metadata": {},
   "source": [
    "What function is used to rename files??"
   ]
  },
  {
   "cell_type": "markdown",
   "id": "0aeeab21",
   "metadata": {},
   "source": [
    "## Soln 2."
   ]
  },
  {
   "cell_type": "markdown",
   "id": "49f10bef",
   "metadata": {},
   "source": [
    "os.rename() method is used to rename files or directories using a python program, this function takes two arguments src and dest, src represents the name file/directory which we want to rename, whereas dest represents the new name of the file/directory."
   ]
  },
  {
   "cell_type": "markdown",
   "id": "c9728f01",
   "metadata": {},
   "source": [
    "# Ques 3."
   ]
  },
  {
   "cell_type": "markdown",
   "id": "624e2218",
   "metadata": {},
   "source": [
    "What is the difference between the delete functions in the send2trash and shutil modules?"
   ]
  },
  {
   "cell_type": "markdown",
   "id": "0d4d6ab0",
   "metadata": {},
   "source": [
    "## Soln 3."
   ]
  },
  {
   "cell_type": "markdown",
   "id": "cae670b9",
   "metadata": {},
   "source": [
    "The send2trash functions will move a file or folder to the recycle bin, while shutil functions will permanently delete files and folders.\n",
    "\n",
    "Shutil module provides a funciton called as shutil.rmtree() which deletes a directory and all its contents. The other functions with similar functionality are os.remove() -> removes a file, os.rmdir() removes a empty directory. The problem with these functions is once a file is deleted. it will be lost permanently, if a file is deleted accidentally using these methods there is no way we can recover the deleted file\n",
    "\n",
    "send2trash module provides a function called send2trash.send2trash() to delete a file/directory. these methods moves the files/directories to trash folder instead of permanently deleting them. hence if a file/folder is deleted accidentally it can be still recovered from trash folder, if is deleted using the send2trash.send2trash() function. send2trash is not included with python standard libary like os & shutil modules. it needs to be installed explicitly using the command !pip install send2trash"
   ]
  },
  {
   "cell_type": "markdown",
   "id": "003f3577",
   "metadata": {},
   "source": [
    "# Ques 4."
   ]
  },
  {
   "cell_type": "markdown",
   "id": "2a628d8a",
   "metadata": {},
   "source": [
    "ZipFile objects have a close() method just like File objects’ close() method. What ZipFile method is equivalent to File objects’ open() method?"
   ]
  },
  {
   "cell_type": "markdown",
   "id": "656293dc",
   "metadata": {},
   "source": [
    "## Soln 4."
   ]
  },
  {
   "cell_type": "markdown",
   "id": "def726ec",
   "metadata": {},
   "source": [
    "The zipfile.ZipFile() function is equivalent to the open() function; the first argument is the filename, and the second argument is the mode to open the ZIP file in (read, write, or append)."
   ]
  },
  {
   "cell_type": "markdown",
   "id": "70b47119",
   "metadata": {},
   "source": [
    "# Ques 5."
   ]
  },
  {
   "cell_type": "markdown",
   "id": "1ec40632",
   "metadata": {},
   "source": [
    "Create a programme that searches a folder tree for files with a certain file extension (such as .pdf or .jpg). Copy these files from whatever location they are in to a new folder."
   ]
  },
  {
   "cell_type": "markdown",
   "id": "e99920be",
   "metadata": {},
   "source": [
    "## Soln 5."
   ]
  },
  {
   "cell_type": "code",
   "execution_count": 1,
   "id": "d3c239ee",
   "metadata": {},
   "outputs": [
    {
     "name": "stdout",
     "output_type": "stream",
     "text": [
      "Folder Name ➞ D:\\Data Science\\Python\\Assignments\\01. Python Basic Assignment\\assign10\n",
      "\n",
      "Sub Folders ➞ []\n",
      "\n",
      "Files ➞ ['Assignment_10.docx', 'Assignment_11.docx', 'Assignment_12.docx', 'Assignment_13.docx', 'Assignment_14.docx', 'Assignment_15.docx']\n",
      "\n",
      "Files copied successfully from D:\\Data Science\\Python\\Assignments\\01. Python Basic Assignment\\assign10 to D:\\Data Science\\Python\\Assignments\\01. Python Basic Assignment\\assign10copy\n"
     ]
    }
   ],
   "source": [
    "import os\n",
    "import shutil\n",
    "\n",
    "def search_and_copy(source,destination,extensions):\n",
    "    source = os.path.abspath(source)\n",
    "    destination = os.path.abspath(destination)\n",
    "    for foldername, subfolder, filenames in os.walk(source):\n",
    "        print(f'Folder Name ➞ {foldername}',end='\\n\\n')\n",
    "        print(f'Sub Folders ➞ {subfolder}',end='\\n\\n')\n",
    "        print(f'Files ➞ {filenames}',end='\\n\\n')\n",
    "        for filename in filenames:\n",
    "            fileName,extension = os.path.splitext(filename)\n",
    "            if extension in extensions:\n",
    "                targetFile = foldername+os.path.sep+fileName+extension\n",
    "                shutil.copy(targetFile, destination)\n",
    "        print(f'Files copied successfully from {source} to {destination}')\n",
    "    \n",
    "extensions = ['.pdf','.jpg','.ipynb','.docx','.py','.txt']\n",
    "source = 'assign10'\n",
    "destination = 'assign10copy'\n",
    "search_and_copy(source, destination, extensions)"
   ]
  },
  {
   "cell_type": "code",
   "execution_count": null,
   "id": "ebc296b9",
   "metadata": {},
   "outputs": [],
   "source": []
  }
 ],
 "metadata": {
  "kernelspec": {
   "display_name": "Python 3 (ipykernel)",
   "language": "python",
   "name": "python3"
  },
  "language_info": {
   "codemirror_mode": {
    "name": "ipython",
    "version": 3
   },
   "file_extension": ".py",
   "mimetype": "text/x-python",
   "name": "python",
   "nbconvert_exporter": "python",
   "pygments_lexer": "ipython3",
   "version": "3.9.7"
  }
 },
 "nbformat": 4,
 "nbformat_minor": 5
}
