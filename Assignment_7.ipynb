{
 "cells": [
  {
   "cell_type": "markdown",
   "id": "dad5a22b",
   "metadata": {},
   "source": [
    "# Ques 1."
   ]
  },
  {
   "cell_type": "markdown",
   "id": "cde4e04b",
   "metadata": {},
   "source": [
    "What is the name of the feature responsible for generating Regex objects?"
   ]
  },
  {
   "cell_type": "markdown",
   "id": "fa968999",
   "metadata": {},
   "source": [
    "## Soln 1."
   ]
  },
  {
   "cell_type": "markdown",
   "id": "f0c51d05",
   "metadata": {},
   "source": [
    "The re.compile() function returns Regex objects."
   ]
  },
  {
   "cell_type": "markdown",
   "id": "763e7ce4",
   "metadata": {},
   "source": [
    "# Ques 2.\n"
   ]
  },
  {
   "cell_type": "markdown",
   "id": "c2b72239",
   "metadata": {},
   "source": [
    "Why do raw strings often appear in Regex objects?"
   ]
  },
  {
   "cell_type": "markdown",
   "id": "0aeeab21",
   "metadata": {},
   "source": [
    "## Soln 2."
   ]
  },
  {
   "cell_type": "markdown",
   "id": "49f10bef",
   "metadata": {},
   "source": [
    "Raw strings are used so that backslashes do not have to be escaped."
   ]
  },
  {
   "cell_type": "markdown",
   "id": "c9728f01",
   "metadata": {},
   "source": [
    "# Ques 3."
   ]
  },
  {
   "cell_type": "markdown",
   "id": "624e2218",
   "metadata": {},
   "source": [
    "What is the return value of the search() method?"
   ]
  },
  {
   "cell_type": "markdown",
   "id": "0d4d6ab0",
   "metadata": {},
   "source": [
    "## Soln 3."
   ]
  },
  {
   "cell_type": "markdown",
   "id": "cae670b9",
   "metadata": {},
   "source": [
    "The search() method returns Match objects. If the match fails, the re.search function will return None."
   ]
  },
  {
   "cell_type": "markdown",
   "id": "003f3577",
   "metadata": {},
   "source": [
    "# Ques 4."
   ]
  },
  {
   "cell_type": "markdown",
   "id": "2a628d8a",
   "metadata": {},
   "source": [
    "From a Match item, how do you get the actual strings that match the pattern?"
   ]
  },
  {
   "cell_type": "markdown",
   "id": "656293dc",
   "metadata": {},
   "source": [
    "## Soln 4."
   ]
  },
  {
   "cell_type": "markdown",
   "id": "def726ec",
   "metadata": {},
   "source": [
    "The group() method returns strings of the matched text."
   ]
  },
  {
   "cell_type": "markdown",
   "id": "70b47119",
   "metadata": {},
   "source": [
    "# Ques 5."
   ]
  },
  {
   "cell_type": "markdown",
   "id": "1ec40632",
   "metadata": {},
   "source": [
    "In the regex which created from the r'(\\d\\d\\d)-(\\d\\d\\d-\\d\\d\\d\\d)', what does group zero cover? Group 2? Group 1?"
   ]
  },
  {
   "cell_type": "markdown",
   "id": "e99920be",
   "metadata": {},
   "source": [
    "## Soln 5."
   ]
  },
  {
   "cell_type": "markdown",
   "id": "a780bc4b",
   "metadata": {},
   "source": [
    "Group 0 is the entire match, group 1 covers the first set of parentheses, and group 2 covers the second set of parentheses."
   ]
  },
  {
   "cell_type": "markdown",
   "id": "01f25d14",
   "metadata": {},
   "source": [
    "# Ques 6."
   ]
  },
  {
   "cell_type": "markdown",
   "id": "1964cd81",
   "metadata": {},
   "source": [
    "In standard expression syntax, parentheses and intervals have distinct meanings. How can you tell a regex that you want it to fit real parentheses and periods?"
   ]
  },
  {
   "cell_type": "markdown",
   "id": "57f4e370",
   "metadata": {},
   "source": [
    "## Soln 6."
   ]
  },
  {
   "cell_type": "code",
   "execution_count": null,
   "id": "744224ca",
   "metadata": {},
   "outputs": [],
   "source": [
    "Periods and parentheses can be escaped with a backslash: \\., \\(, and \\)."
   ]
  },
  {
   "cell_type": "markdown",
   "id": "e7a162f2",
   "metadata": {},
   "source": [
    "# Ques 7."
   ]
  },
  {
   "cell_type": "markdown",
   "id": "73d5614f",
   "metadata": {},
   "source": [
    "The findall() method returns a string list or a list of string tuples. What causes it to return one of the two options?"
   ]
  },
  {
   "cell_type": "markdown",
   "id": "48ccbcd8",
   "metadata": {},
   "source": [
    "## Soln 7."
   ]
  },
  {
   "cell_type": "markdown",
   "id": "b4487ce9",
   "metadata": {},
   "source": [
    "If the regex has no groups, a list of strings is returned. If the regex has groups, a list of tuples of strings is returned."
   ]
  },
  {
   "cell_type": "markdown",
   "id": "9d764922",
   "metadata": {},
   "source": [
    "# Ques 8."
   ]
  },
  {
   "cell_type": "markdown",
   "id": "6e970cf1",
   "metadata": {},
   "source": [
    "In standard expressions, what does the | character mean?"
   ]
  },
  {
   "cell_type": "markdown",
   "id": "9109dc42",
   "metadata": {},
   "source": [
    "## Soln 8."
   ]
  },
  {
   "cell_type": "markdown",
   "id": "ec78f7fb",
   "metadata": {},
   "source": [
    "The | character signifies matching “either, or” between two groups."
   ]
  },
  {
   "cell_type": "markdown",
   "id": "83629c52",
   "metadata": {},
   "source": [
    "# Ques 9."
   ]
  },
  {
   "cell_type": "markdown",
   "id": "2067ae98",
   "metadata": {},
   "source": [
    "In regular expressions, what does the ? character stand for?"
   ]
  },
  {
   "cell_type": "markdown",
   "id": "1a79a4a8",
   "metadata": {},
   "source": [
    "## Soln 9."
   ]
  },
  {
   "cell_type": "markdown",
   "id": "f17a561f",
   "metadata": {},
   "source": [
    "The ? character can either mean “match zero or one of the preceding group” or be used to signify non-greedy matching."
   ]
  },
  {
   "cell_type": "markdown",
   "id": "8bc760c1",
   "metadata": {},
   "source": [
    "# Ques 10."
   ]
  },
  {
   "cell_type": "markdown",
   "id": "dcd94fce",
   "metadata": {},
   "source": [
    "In regular expressions, what is the difference between the + and * characters?"
   ]
  },
  {
   "cell_type": "markdown",
   "id": "4bf155e3",
   "metadata": {},
   "source": [
    "## Soln 10."
   ]
  },
  {
   "cell_type": "markdown",
   "id": "2db6b0eb",
   "metadata": {},
   "source": [
    "# *\n",
    "=> Causes the resulting RE to match 0 or more repetitions of the preceding RE, as many repetitions as are possible. ab* will match ‘a’, ‘ab’, or ‘a’ followed by any number of ‘b’s.\n",
    "\n",
    "# +\n",
    "=> Causes the resulting RE to match 1 or more repetitions of the preceding RE. ab+ will match ‘a’ followed by any non-zero number of ‘b’s; it will not match just ‘a’."
   ]
  },
  {
   "cell_type": "markdown",
   "id": "2fc2b05b",
   "metadata": {},
   "source": [
    "# Ques 11."
   ]
  },
  {
   "cell_type": "markdown",
   "id": "bb1ed637",
   "metadata": {},
   "source": [
    "What is the difference between {4} and {4,5} in regular expression?"
   ]
  },
  {
   "cell_type": "markdown",
   "id": "70872ee1",
   "metadata": {},
   "source": [
    "## Soln 11."
   ]
  },
  {
   "cell_type": "markdown",
   "id": "4422d7f7",
   "metadata": {},
   "source": [
    "The {4} matches exactly four instances of the preceding group.\n",
    "\n",
    "The {4,5} matches between four and five instances."
   ]
  },
  {
   "cell_type": "markdown",
   "id": "c1d4572e",
   "metadata": {},
   "source": [
    "# Ques 12."
   ]
  },
  {
   "cell_type": "markdown",
   "id": "fd0300dc",
   "metadata": {},
   "source": [
    "What do you mean by the \\d, \\w, and \\s shorthand character classes signify in regular expressions?"
   ]
  },
  {
   "cell_type": "markdown",
   "id": "dfb359ac",
   "metadata": {},
   "source": [
    "## Soln 12."
   ]
  },
  {
   "cell_type": "markdown",
   "id": "7fb93189",
   "metadata": {},
   "source": [
    "The \\d, \\w, and \\s shorthand character classes match a single digit, word, or whitespace character, respectively."
   ]
  },
  {
   "cell_type": "markdown",
   "id": "f8c1b609",
   "metadata": {},
   "source": [
    "# Ques 13."
   ]
  },
  {
   "cell_type": "markdown",
   "id": "a9eea3aa",
   "metadata": {},
   "source": [
    "What do means by \\D, \\W, and \\S shorthand character classes signify in regular expressions?"
   ]
  },
  {
   "cell_type": "markdown",
   "id": "f738cc00",
   "metadata": {},
   "source": [
    "## Soln 13."
   ]
  },
  {
   "cell_type": "markdown",
   "id": "42eb0606",
   "metadata": {},
   "source": [
    "The \\D, \\W, and \\S shorthand character classes match a single character that is not a digit, word, or space character, respectively."
   ]
  },
  {
   "cell_type": "markdown",
   "id": "656ea87c",
   "metadata": {},
   "source": [
    "# Ques 14."
   ]
  },
  {
   "cell_type": "code",
   "execution_count": null,
   "id": "7c81fbee",
   "metadata": {},
   "outputs": [],
   "source": [
    "What is the difference between .*? and .*  ?"
   ]
  },
  {
   "cell_type": "markdown",
   "id": "16131f82",
   "metadata": {},
   "source": [
    "## Soln 14."
   ]
  },
  {
   "cell_type": "code",
   "execution_count": null,
   "id": "bc9a23d8",
   "metadata": {},
   "outputs": [],
   "source": [
    "The .* performs a greedy match, they match as much text as possible.\n",
    "Ex. if the RE <.*> is matched against '<a><b><c>', it will match the entire string, and not just '<a>'\n",
    "\n",
    "The .*? performs a non-greedy or minimal match, as few characters as possible will be matched.    \n",
    "Ex. Using the RE <.*?> will match only '<a>'."
   ]
  },
  {
   "cell_type": "markdown",
   "id": "ecdd36a4",
   "metadata": {},
   "source": [
    "# Ques 15."
   ]
  },
  {
   "cell_type": "markdown",
   "id": "4011d47d",
   "metadata": {},
   "source": [
    "What is the syntax for matching both numbers and lowercase letters with a character class?"
   ]
  },
  {
   "cell_type": "markdown",
   "id": "b7bb948b",
   "metadata": {},
   "source": [
    "## Soln 15."
   ]
  },
  {
   "cell_type": "markdown",
   "id": "f8a4e4dd",
   "metadata": {},
   "source": [
    "Either [0-9a-z] or [a-z0-9]"
   ]
  },
  {
   "cell_type": "markdown",
   "id": "3e982f8b",
   "metadata": {},
   "source": [
    "# Ques 16."
   ]
  },
  {
   "cell_type": "markdown",
   "id": "1cd635b7",
   "metadata": {},
   "source": [
    "What is the procedure for making a normal expression in regax case insensitive?"
   ]
  },
  {
   "cell_type": "markdown",
   "id": "c1717193",
   "metadata": {},
   "source": [
    "## Soln 16."
   ]
  },
  {
   "cell_type": "markdown",
   "id": "9386acda",
   "metadata": {},
   "source": [
    "Passing re.I or re.IGNORECASE as the second argument to re.compile() will make the matching case insensitive."
   ]
  },
  {
   "cell_type": "markdown",
   "id": "47710ba7",
   "metadata": {},
   "source": [
    "# Ques 17."
   ]
  },
  {
   "cell_type": "markdown",
   "id": "c459194c",
   "metadata": {},
   "source": [
    "What does the . character normally match? What does it match if re.DOTALL is passed as 2nd argument in re.compile()?"
   ]
  },
  {
   "cell_type": "markdown",
   "id": "a0a6a658",
   "metadata": {},
   "source": [
    "## Soln 17."
   ]
  },
  {
   "cell_type": "markdown",
   "id": "e5c77e2a",
   "metadata": {},
   "source": [
    "The . character normally matches any character except the newline character. If re.DOTALL is passed as the second argument to re.compile(), then the dot will also match newline characters."
   ]
  },
  {
   "cell_type": "markdown",
   "id": "8d8d0e1e",
   "metadata": {},
   "source": [
    "# Ques 18."
   ]
  },
  {
   "cell_type": "markdown",
   "id": "848b8f34",
   "metadata": {},
   "source": [
    "If numReg = re.compile(r'\\d+'), what will numRegex.sub('X', '11 drummers, 10 pipers, five rings, 4 hen') return?"
   ]
  },
  {
   "cell_type": "markdown",
   "id": "2de8876b",
   "metadata": {},
   "source": [
    "## Soln 18."
   ]
  },
  {
   "cell_type": "markdown",
   "id": "2a1a706b",
   "metadata": {},
   "source": [
    "The sub() call will return the string 'X drummers, X pipers, five rings, X hens'"
   ]
  },
  {
   "cell_type": "markdown",
   "id": "f9710e5d",
   "metadata": {},
   "source": [
    "# Ques 19."
   ]
  },
  {
   "cell_type": "markdown",
   "id": "6523c1ca",
   "metadata": {},
   "source": [
    "What does passing re.VERBOSE as the 2nd argument to re.compile() allow to do?"
   ]
  },
  {
   "cell_type": "markdown",
   "id": "21b639db",
   "metadata": {},
   "source": [
    "## Soln 19."
   ]
  },
  {
   "cell_type": "markdown",
   "id": "54e77d56",
   "metadata": {},
   "source": [
    "The re.VERBOSE argument allows you to add whitespace and comments to the string passed to re.compile()."
   ]
  },
  {
   "cell_type": "markdown",
   "id": "9fad075b",
   "metadata": {},
   "source": [
    "# Ques 20."
   ]
  },
  {
   "cell_type": "markdown",
   "id": "38fdbb9d",
   "metadata": {},
   "source": [
    "How would you write a regex that match a number with comma for every three digits? It must match the given following:\n",
    "\n",
    "'42'\n",
    "\n",
    "'1,234'\n",
    "\n",
    "'6,368,745'\n",
    "\n",
    "but not the following:\n",
    "\n",
    "'12,34,567' (which has only two digits between the commas)\n",
    "\n",
    "'1234' (which lacks commas)\n"
   ]
  },
  {
   "cell_type": "markdown",
   "id": "bce8e950",
   "metadata": {},
   "source": [
    "## Soln 20."
   ]
  },
  {
   "cell_type": "markdown",
   "id": "71883c38",
   "metadata": {},
   "source": [
    "re.compile(r'^\\d{1,3}(,\\d{3})*$') will create this regex, but other regex strings can produce a similar regular expression."
   ]
  },
  {
   "cell_type": "code",
   "execution_count": 1,
   "id": "2c5e5d13",
   "metadata": {},
   "outputs": [
    {
     "name": "stdout",
     "output_type": "stream",
     "text": [
      "Output: 42 -> <re.Match object; span=(0, 2), match='42'>\n",
      "Output: 1,234 -> <re.Match object; span=(0, 5), match='1,234'>\n",
      "Output: 6,368,745 -> <re.Match object; span=(0, 9), match='6,368,745'>\n",
      "Output: 12,34,567 -> None\n",
      "Output: 1234 -> None\n"
     ]
    }
   ],
   "source": [
    "import re\n",
    "pattern = r'^\\d{1,3}(,\\d{3})*$'\n",
    "pagex = re.compile(pattern)\n",
    "for ele in ['42','1,234', '6,368,745','12,34,567','1234']:\n",
    "    print('Output:',ele, '->', pagex.search(ele))"
   ]
  },
  {
   "cell_type": "markdown",
   "id": "935f1741",
   "metadata": {},
   "source": [
    "# Ques 21."
   ]
  },
  {
   "cell_type": "markdown",
   "id": "f2e45121",
   "metadata": {},
   "source": [
    "How would you write a regex that matches the full name of someone whose last name is Watanabe? You can assume that the first name that comes before it will always be one word that begins with a capital letter. The regex must match the following:\n",
    "\n",
    "'Haruto Watanabe'\n",
    "\n",
    "'Alice Watanabe'\n",
    "\n",
    "'RoboCop Watanabe'\n",
    "\n",
    "but not the following:\n",
    "\n",
    "'haruto Watanabe' (where the first name is not capitalized)\n",
    "\n",
    "'Mr. Watanabe' (where the preceding word has a nonletter character)\n",
    "\n",
    "'Watanabe' (which has no first name)\n",
    "\n",
    "'Haruto watanabe' (where Watanabe is not capitalized)\n"
   ]
  },
  {
   "cell_type": "markdown",
   "id": "803d1f8b",
   "metadata": {},
   "source": [
    "## Soln 21."
   ]
  },
  {
   "cell_type": "markdown",
   "id": "1d1a12e8",
   "metadata": {},
   "source": [
    " re.compile(r'[A-Z][a-z]*\\sWatanabe')"
   ]
  },
  {
   "cell_type": "code",
   "execution_count": 2,
   "id": "96a3f52e",
   "metadata": {},
   "outputs": [
    {
     "name": "stdout",
     "output_type": "stream",
     "text": [
      "Output:  Haruto Watanabe -> <re.Match object; span=(0, 15), match='Haruto Watanabe'>\n",
      "Output:  Alice Watanabe -> <re.Match object; span=(0, 14), match='Alice Watanabe'>\n",
      "Output:  RoboCop Watanabe -> <re.Match object; span=(4, 16), match='Cop Watanabe'>\n",
      "Output:  haruto Watanabe -> None\n",
      "Output:  Mr. Watanabe -> None\n",
      "Output:  Watanabe -> None\n",
      "Output:  Haruto watanabe -> None\n"
     ]
    }
   ],
   "source": [
    "import re\n",
    "pattern = r'[A-Z]{1}[a-z]*\\sWatanabe'\n",
    "namex = re.compile(pattern)\n",
    "for name in ['Haruto Watanabe','Alice Watanabe','RoboCop Watanabe','haruto Watanabe','Mr. Watanabe','Watanabe','Haruto watanabe']:\n",
    "    print('Output: ',name,'->',namex.search(name))"
   ]
  },
  {
   "cell_type": "markdown",
   "id": "69c14d79",
   "metadata": {},
   "source": [
    "# Ques 22."
   ]
  },
  {
   "cell_type": "markdown",
   "id": "9bdb4968",
   "metadata": {},
   "source": [
    "How would you write a regex that matches a sentence where the first word is either Alice, Bob, or Carol; the second word is either eats, pets, or throws; the third word is apples, cats, or baseballs; and the sentence ends with a period? This regex should be case-insensitive. It must match the following:\n",
    "\n",
    "'Alice eats apples.'\n",
    "\n",
    "'Bob pets cats.'\n",
    "\n",
    "'Carol throws baseballs.'\n",
    "\n",
    "'Alice throws Apples.'\n",
    "\n",
    "'BOB EATS CATS.'\n",
    "\n",
    "but not the following:\n",
    "\n",
    "'RoboCop eats apples.'\n",
    "\n",
    "'ALICE THROWS FOOTBALLS.'\n",
    "\n",
    "'Carol eats 7 cats.'\n"
   ]
  },
  {
   "cell_type": "markdown",
   "id": "598b72a1",
   "metadata": {},
   "source": [
    "## Soln 22."
   ]
  },
  {
   "cell_type": "markdown",
   "id": "7f84a845",
   "metadata": {},
   "source": [
    " re.compile(r'(Alice|Bob|Carol)\\s(eats|pets|throws)\\s(apples|cats|baseballs)\\.', re.IGNORECASE)"
   ]
  },
  {
   "cell_type": "code",
   "execution_count": null,
   "id": "312d91ff",
   "metadata": {},
   "outputs": [],
   "source": []
  },
  {
   "cell_type": "code",
   "execution_count": null,
   "id": "1855739f",
   "metadata": {},
   "outputs": [],
   "source": []
  }
 ],
 "metadata": {
  "kernelspec": {
   "display_name": "Python 3 (ipykernel)",
   "language": "python",
   "name": "python3"
  },
  "language_info": {
   "codemirror_mode": {
    "name": "ipython",
    "version": 3
   },
   "file_extension": ".py",
   "mimetype": "text/x-python",
   "name": "python",
   "nbconvert_exporter": "python",
   "pygments_lexer": "ipython3",
   "version": "3.9.7"
  }
 },
 "nbformat": 4,
 "nbformat_minor": 5
}
