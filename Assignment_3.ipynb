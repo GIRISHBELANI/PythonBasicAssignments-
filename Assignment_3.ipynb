{
 "cells": [
  {
   "cell_type": "markdown",
   "id": "dad5a22b",
   "metadata": {},
   "source": [
    "# Ques 1."
   ]
  },
  {
   "cell_type": "markdown",
   "id": "cde4e04b",
   "metadata": {},
   "source": [
    "1. Why are functions advantageous to have in your programs ?"
   ]
  },
  {
   "cell_type": "markdown",
   "id": "fa968999",
   "metadata": {},
   "source": [
    "## Soln 1."
   ]
  },
  {
   "cell_type": "markdown",
   "id": "f0c51d05",
   "metadata": {},
   "source": [
    "The advantages of using functions are:\n",
    "\n",
    "Functions reduce the need for duplicate code. This makes programs shorter, easier to read, and easier to update.\n",
    "\n",
    "Decomposing complex problems into simpler pieces.\n",
    "\n",
    "Improving clarity of the code.\n",
    "\n",
    "Reuse of code.\n",
    "\n",
    "Information hiding."
   ]
  },
  {
   "cell_type": "markdown",
   "id": "763e7ce4",
   "metadata": {},
   "source": [
    "# Ques 2.\n"
   ]
  },
  {
   "cell_type": "markdown",
   "id": "c2b72239",
   "metadata": {},
   "source": [
    "2. When does the code in a function run: when it's specified or when it's called ?"
   ]
  },
  {
   "cell_type": "markdown",
   "id": "0aeeab21",
   "metadata": {},
   "source": [
    "## Soln 2."
   ]
  },
  {
   "cell_type": "markdown",
   "id": "49f10bef",
   "metadata": {},
   "source": [
    "The code in a function executes when the function is called, not when the function is defined.\n",
    "When a function is \"called\" the program \"leaves\" the current section of code and begins to execute the first line inside the function."
   ]
  },
  {
   "cell_type": "markdown",
   "id": "c9728f01",
   "metadata": {},
   "source": [
    "# Ques 3."
   ]
  },
  {
   "cell_type": "markdown",
   "id": "624e2218",
   "metadata": {},
   "source": [
    "3. What statement creates a function ?"
   ]
  },
  {
   "cell_type": "markdown",
   "id": "0d4d6ab0",
   "metadata": {},
   "source": [
    "## Soln 3."
   ]
  },
  {
   "cell_type": "markdown",
   "id": "cae670b9",
   "metadata": {},
   "source": [
    "The def statement defines or creates a function.\n"
   ]
  },
  {
   "cell_type": "markdown",
   "id": "003f3577",
   "metadata": {},
   "source": [
    "# Ques 4."
   ]
  },
  {
   "cell_type": "markdown",
   "id": "2a628d8a",
   "metadata": {},
   "source": [
    "4. What is the difference between a function and a function call ?"
   ]
  },
  {
   "cell_type": "markdown",
   "id": "656293dc",
   "metadata": {},
   "source": [
    "## Soln 4."
   ]
  },
  {
   "cell_type": "markdown",
   "id": "def726ec",
   "metadata": {},
   "source": [
    "A function consists of the def statement and the code in its def clause. It is a piece of code which enhanced the reusability and modularity of your program. It means that piece of code need not be written again.\n",
    "\n",
    "A function call means invoking or calling that function. A function call is what moves the program execution into the function, and the function call evaluates to the function's return value. Unless a function is called there is no use of that function.\n"
   ]
  },
  {
   "cell_type": "markdown",
   "id": "70b47119",
   "metadata": {},
   "source": [
    "# Ques 5."
   ]
  },
  {
   "cell_type": "markdown",
   "id": "1ec40632",
   "metadata": {},
   "source": [
    "5. How many global scopes are there in a Python program ? How many local scopes ?"
   ]
  },
  {
   "cell_type": "markdown",
   "id": "e99920be",
   "metadata": {},
   "source": [
    "## Soln 5."
   ]
  },
  {
   "cell_type": "markdown",
   "id": "ae8d48d8",
   "metadata": {},
   "source": [
    "There's only one global Python scope per program execution. This scope remains in existence until the program terminates and all its names are forgotten. Otherwise, the next time you were to run the program, the names would remember their values from the previous run.\n",
    "\n",
    "A local scope is created whenever a function is called."
   ]
  },
  {
   "cell_type": "markdown",
   "id": "01f25d14",
   "metadata": {},
   "source": [
    "# Ques 6."
   ]
  },
  {
   "cell_type": "markdown",
   "id": "1964cd81",
   "metadata": {},
   "source": [
    "6. What happens to variables in a local scope when the function call returns ? "
   ]
  },
  {
   "cell_type": "markdown",
   "id": "57f4e370",
   "metadata": {},
   "source": [
    "## Soln 6."
   ]
  },
  {
   "cell_type": "markdown",
   "id": "1c8c43b8",
   "metadata": {},
   "source": [
    "When a function returns, the local scope is destroyed, and all the variables in it are forgotten.\n"
   ]
  },
  {
   "cell_type": "markdown",
   "id": "e7a162f2",
   "metadata": {},
   "source": [
    "# Ques 7."
   ]
  },
  {
   "cell_type": "markdown",
   "id": "73d5614f",
   "metadata": {},
   "source": [
    "7. What is the concept of a return value? Is it possible to have a return value in an expression ?"
   ]
  },
  {
   "cell_type": "markdown",
   "id": "48ccbcd8",
   "metadata": {},
   "source": [
    "## Soln 7."
   ]
  },
  {
   "cell_type": "markdown",
   "id": "1f325d2e",
   "metadata": {},
   "source": [
    "A return is a value that a function returns to the calling script or function when it completes its task. A return value can be any one of the four variable types: handle, integer, object, or string. The type of value your function returns depends largely on the task it performs.\n",
    "\n",
    "Like any value, a return value can be used as part of an expression.\n",
    "\n"
   ]
  },
  {
   "cell_type": "markdown",
   "id": "9d764922",
   "metadata": {},
   "source": [
    "# Ques 8."
   ]
  },
  {
   "cell_type": "markdown",
   "id": "6e970cf1",
   "metadata": {},
   "source": [
    "8. If a function does not have a return statement, what is the return value of a call to that function ?"
   ]
  },
  {
   "cell_type": "markdown",
   "id": "9109dc42",
   "metadata": {},
   "source": [
    "## Soln 8."
   ]
  },
  {
   "cell_type": "markdown",
   "id": "47248317",
   "metadata": {},
   "source": [
    "If no return statement appears in a function definition, control automatically returns to the calling function after the last statement of the called function is executed. In this case, the return value of the called function is None or undefined."
   ]
  },
  {
   "cell_type": "markdown",
   "id": "83629c52",
   "metadata": {},
   "source": [
    "# Ques 9."
   ]
  },
  {
   "cell_type": "markdown",
   "id": "2067ae98",
   "metadata": {},
   "source": [
    "9. How do you make a function variable refer to the global variable ?"
   ]
  },
  {
   "cell_type": "markdown",
   "id": "1a79a4a8",
   "metadata": {},
   "source": [
    "## Soln 9."
   ]
  },
  {
   "cell_type": "markdown",
   "id": "9b14bc33",
   "metadata": {},
   "source": [
    "You can use the global keyword to declare which variables are global. A global statement will force a variable in a function to refer to the global variable.\n",
    "\n"
   ]
  },
  {
   "cell_type": "markdown",
   "id": "8bc760c1",
   "metadata": {},
   "source": [
    "# Ques 10."
   ]
  },
  {
   "cell_type": "markdown",
   "id": "dcd94fce",
   "metadata": {},
   "source": [
    "10. What is the data type of None ?"
   ]
  },
  {
   "cell_type": "markdown",
   "id": "4bf155e3",
   "metadata": {},
   "source": [
    "## Soln 10."
   ]
  },
  {
   "cell_type": "markdown",
   "id": "423a281b",
   "metadata": {},
   "source": [
    "The data type of None is NoneType."
   ]
  },
  {
   "cell_type": "markdown",
   "id": "2fc2b05b",
   "metadata": {},
   "source": [
    "# Ques 11."
   ]
  },
  {
   "cell_type": "markdown",
   "id": "1cca2ff5",
   "metadata": {},
   "source": [
    "11. What does the sentence import areallyourpetsnamederic do?"
   ]
  },
  {
   "cell_type": "markdown",
   "id": "70872ee1",
   "metadata": {},
   "source": [
    "## Soln 11."
   ]
  },
  {
   "cell_type": "markdown",
   "id": "6c91098b",
   "metadata": {},
   "source": [
    "That import statement imports a module named areallyourpetsnamederic."
   ]
  },
  {
   "cell_type": "markdown",
   "id": "c1d4572e",
   "metadata": {},
   "source": [
    "# Ques 12."
   ]
  },
  {
   "cell_type": "markdown",
   "id": "c25c799e",
   "metadata": {},
   "source": [
    "12. If you had a bacon() feature in a spam module, what would you call it after importing spam?"
   ]
  },
  {
   "cell_type": "markdown",
   "id": "dfb359ac",
   "metadata": {},
   "source": [
    "## Soln 12."
   ]
  },
  {
   "cell_type": "markdown",
   "id": "48d63fbb",
   "metadata": {},
   "source": [
    "This function could be called with spam.bacon()"
   ]
  },
  {
   "cell_type": "markdown",
   "id": "f8c1b609",
   "metadata": {},
   "source": [
    "# Ques 13."
   ]
  },
  {
   "cell_type": "markdown",
   "id": "e3e71b39",
   "metadata": {},
   "source": [
    "13. What can you do to save a programme from crashing if it encounters an error?"
   ]
  },
  {
   "cell_type": "markdown",
   "id": "f738cc00",
   "metadata": {},
   "source": [
    "## Soln 13."
   ]
  },
  {
   "cell_type": "markdown",
   "id": "823ddd9e",
   "metadata": {},
   "source": [
    "1. Place the line of code that might cause an error in a try clause.\n",
    "\n",
    "2. Error handling can be used to notify the user of why the error occurred and gracefully exit the process that caused the error."
   ]
  },
  {
   "cell_type": "markdown",
   "id": "656ea87c",
   "metadata": {},
   "source": [
    "# Ques 14."
   ]
  },
  {
   "cell_type": "markdown",
   "id": "88bd376c",
   "metadata": {},
   "source": [
    "14. What is the purpose of the try clause? What is the purpose of the except clause?"
   ]
  },
  {
   "cell_type": "markdown",
   "id": "16131f82",
   "metadata": {},
   "source": [
    "## Soln 14."
   ]
  },
  {
   "cell_type": "markdown",
   "id": "0a92dae1",
   "metadata": {},
   "source": [
    "The code that could potentially cause an error goes in the try clause. The try block lets you test a block of code for errors.\n",
    "\n",
    "The code that executes if an error happens goes in the except clause. The except block lets you handle the error."
   ]
  }
 ],
 "metadata": {
  "kernelspec": {
   "display_name": "Python 3 (ipykernel)",
   "language": "python",
   "name": "python3"
  },
  "language_info": {
   "codemirror_mode": {
    "name": "ipython",
    "version": 3
   },
   "file_extension": ".py",
   "mimetype": "text/x-python",
   "name": "python",
   "nbconvert_exporter": "python",
   "pygments_lexer": "ipython3",
   "version": "3.9.7"
  }
 },
 "nbformat": 4,
 "nbformat_minor": 5
}
