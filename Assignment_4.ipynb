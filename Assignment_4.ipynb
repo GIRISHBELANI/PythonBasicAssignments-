{
 "cells": [
  {
   "cell_type": "markdown",
   "id": "dad5a22b",
   "metadata": {},
   "source": [
    "# Ques 1."
   ]
  },
  {
   "cell_type": "markdown",
   "id": "cde4e04b",
   "metadata": {},
   "source": [
    "What exactly is [ ]?"
   ]
  },
  {
   "cell_type": "markdown",
   "id": "fa968999",
   "metadata": {},
   "source": [
    "## Soln 1."
   ]
  },
  {
   "cell_type": "markdown",
   "id": "f0c51d05",
   "metadata": {},
   "source": [
    "In Python, a list is created by placing elements inside square brackets [ ] , separated by commas. A list can have any number of items and they may be of different types (integer, float, string, etc.). A list can also have another list as an item. This is called a nested list.\n",
    "\n",
    "[ ] is the empty list value, which is a list value that contains no items. This is similar to how '' is the empty string value."
   ]
  },
  {
   "cell_type": "markdown",
   "id": "763e7ce4",
   "metadata": {},
   "source": [
    "# Ques 2.\n"
   ]
  },
  {
   "cell_type": "markdown",
   "id": "c2b72239",
   "metadata": {},
   "source": [
    "In a list of values stored in a variable called spam, how would you assign the value 'hello' as the third value? (Assume [2, 4, 6, 8, 10] are in spam.)\n",
    "\n"
   ]
  },
  {
   "cell_type": "markdown",
   "id": "0aeeab21",
   "metadata": {},
   "source": [
    "## Soln 2."
   ]
  },
  {
   "cell_type": "code",
   "execution_count": 1,
   "id": "80867cdc",
   "metadata": {},
   "outputs": [
    {
     "data": {
      "text/plain": [
       "[2, 4, 'hello', 8, 10]"
      ]
     },
     "execution_count": 1,
     "metadata": {},
     "output_type": "execute_result"
    }
   ],
   "source": [
    "spam = [2, 4, 6, 8, 10] \n",
    "spam[2] = 'hello'   # since numbering starts from 0,1,2,3,4 that's whu 3rd place is index 2\n",
    "spam"
   ]
  },
  {
   "cell_type": "markdown",
   "id": "38be347b",
   "metadata": {},
   "source": [
    "# Let's pretend the spam includes the list ['a', 'b', 'c', 'd'] for the next three queries."
   ]
  },
  {
   "cell_type": "markdown",
   "id": "c9728f01",
   "metadata": {},
   "source": [
    "# Ques 3."
   ]
  },
  {
   "cell_type": "markdown",
   "id": "624e2218",
   "metadata": {},
   "source": [
    "What is the value of spam[int(int('3' * 2) / 11)]?"
   ]
  },
  {
   "cell_type": "markdown",
   "id": "0d4d6ab0",
   "metadata": {},
   "source": [
    "## Soln 3."
   ]
  },
  {
   "cell_type": "code",
   "execution_count": 2,
   "id": "f70a72a0",
   "metadata": {},
   "outputs": [
    {
     "data": {
      "text/plain": [
       "'d'"
      ]
     },
     "execution_count": 2,
     "metadata": {},
     "output_type": "execute_result"
    }
   ],
   "source": [
    "spam = ['a', 'b', 'c', 'd']\n",
    "spam[int(int('3' * 2) / 11)]   # answer = 'd'"
   ]
  },
  {
   "cell_type": "markdown",
   "id": "003f3577",
   "metadata": {},
   "source": [
    "# Ques 4."
   ]
  },
  {
   "cell_type": "markdown",
   "id": "2a628d8a",
   "metadata": {},
   "source": [
    "What is the value of spam[-1]?"
   ]
  },
  {
   "cell_type": "markdown",
   "id": "656293dc",
   "metadata": {},
   "source": [
    "## Soln 4."
   ]
  },
  {
   "cell_type": "code",
   "execution_count": 3,
   "id": "233b6a39",
   "metadata": {},
   "outputs": [
    {
     "data": {
      "text/plain": [
       "'d'"
      ]
     },
     "execution_count": 3,
     "metadata": {},
     "output_type": "execute_result"
    }
   ],
   "source": [
    "# The value of spam[-1] is 'd'\n",
    "spam[-1]"
   ]
  },
  {
   "cell_type": "markdown",
   "id": "70b47119",
   "metadata": {},
   "source": [
    "# Ques 5."
   ]
  },
  {
   "cell_type": "markdown",
   "id": "1ec40632",
   "metadata": {},
   "source": [
    "What is the value of spam[:2]?\n",
    "\n"
   ]
  },
  {
   "cell_type": "markdown",
   "id": "e99920be",
   "metadata": {},
   "source": [
    "## Soln 5."
   ]
  },
  {
   "cell_type": "code",
   "execution_count": 4,
   "id": "6edadc77",
   "metadata": {},
   "outputs": [
    {
     "data": {
      "text/plain": [
       "['a', 'b']"
      ]
     },
     "execution_count": 4,
     "metadata": {},
     "output_type": "execute_result"
    }
   ],
   "source": [
    " spam[:2]"
   ]
  },
  {
   "cell_type": "markdown",
   "id": "48431720",
   "metadata": {},
   "source": [
    "# Let's pretend bacon has the list [3.14, 'cat', 11, 'cat', True] for the next three questions."
   ]
  },
  {
   "cell_type": "markdown",
   "id": "01f25d14",
   "metadata": {},
   "source": [
    "# Ques 6."
   ]
  },
  {
   "cell_type": "markdown",
   "id": "1964cd81",
   "metadata": {},
   "source": [
    "What is the value of bacon.index('cat')?"
   ]
  },
  {
   "cell_type": "markdown",
   "id": "57f4e370",
   "metadata": {},
   "source": [
    "## Soln 6."
   ]
  },
  {
   "cell_type": "code",
   "execution_count": 5,
   "id": "aa718683",
   "metadata": {},
   "outputs": [],
   "source": [
    "bacon= [3.14, 'cat', 11, 'cat', True]"
   ]
  },
  {
   "cell_type": "code",
   "execution_count": 6,
   "id": "f3ae9d8d",
   "metadata": {},
   "outputs": [
    {
     "data": {
      "text/plain": [
       "1"
      ]
     },
     "execution_count": 6,
     "metadata": {},
     "output_type": "execute_result"
    }
   ],
   "source": [
    "bacon.index('cat')"
   ]
  },
  {
   "cell_type": "markdown",
   "id": "202238e7",
   "metadata": {},
   "source": [
    "Answer = 1"
   ]
  },
  {
   "cell_type": "markdown",
   "id": "e7a162f2",
   "metadata": {},
   "source": [
    "# Ques 7."
   ]
  },
  {
   "cell_type": "markdown",
   "id": "73d5614f",
   "metadata": {},
   "source": [
    "How does bacon.append(99) change the look of the list value in bacon?"
   ]
  },
  {
   "cell_type": "markdown",
   "id": "48ccbcd8",
   "metadata": {},
   "source": [
    "## Soln 7."
   ]
  },
  {
   "cell_type": "markdown",
   "id": "62c4028a",
   "metadata": {},
   "source": [
    "Answer = [3.14, 'cat', 11, 'cat', True, 99,]"
   ]
  },
  {
   "cell_type": "code",
   "execution_count": 7,
   "id": "29b20273",
   "metadata": {},
   "outputs": [],
   "source": [
    "bacon.append(99) "
   ]
  },
  {
   "cell_type": "code",
   "execution_count": 8,
   "id": "06cf0b19",
   "metadata": {},
   "outputs": [
    {
     "data": {
      "text/plain": [
       "[3.14, 'cat', 11, 'cat', True, 99]"
      ]
     },
     "execution_count": 8,
     "metadata": {},
     "output_type": "execute_result"
    }
   ],
   "source": [
    "bacon"
   ]
  },
  {
   "cell_type": "markdown",
   "id": "9d764922",
   "metadata": {},
   "source": [
    "# Ques 8."
   ]
  },
  {
   "cell_type": "markdown",
   "id": "6e970cf1",
   "metadata": {},
   "source": [
    "How does bacon.remove('cat') change the look of the list in bacon?"
   ]
  },
  {
   "cell_type": "markdown",
   "id": "9109dc42",
   "metadata": {},
   "source": [
    "## Soln 8."
   ]
  },
  {
   "cell_type": "markdown",
   "id": "ad10c269",
   "metadata": {},
   "source": [
    "[3.14, 11, 'cat', True, 99]"
   ]
  },
  {
   "cell_type": "code",
   "execution_count": 9,
   "id": "5a026b11",
   "metadata": {},
   "outputs": [],
   "source": [
    "bacon.remove('cat') "
   ]
  },
  {
   "cell_type": "code",
   "execution_count": 10,
   "id": "17917e36",
   "metadata": {},
   "outputs": [
    {
     "data": {
      "text/plain": [
       "[3.14, 11, 'cat', True, 99]"
      ]
     },
     "execution_count": 10,
     "metadata": {},
     "output_type": "execute_result"
    }
   ],
   "source": [
    "bacon"
   ]
  },
  {
   "cell_type": "markdown",
   "id": "83629c52",
   "metadata": {},
   "source": [
    "# Ques 9."
   ]
  },
  {
   "cell_type": "markdown",
   "id": "2067ae98",
   "metadata": {},
   "source": [
    "What are the list concatenation and list replication operators?"
   ]
  },
  {
   "cell_type": "markdown",
   "id": "1a79a4a8",
   "metadata": {},
   "source": [
    "## Soln 9."
   ]
  },
  {
   "cell_type": "markdown",
   "id": "07d64212",
   "metadata": {},
   "source": [
    "The operator for list concatenation is +, while the operator for list replication is *."
   ]
  },
  {
   "cell_type": "markdown",
   "id": "8bc760c1",
   "metadata": {},
   "source": [
    "# Ques 10."
   ]
  },
  {
   "cell_type": "markdown",
   "id": "dcd94fce",
   "metadata": {},
   "source": [
    "What is difference between the list methods append() and insert()?"
   ]
  },
  {
   "cell_type": "markdown",
   "id": "4bf155e3",
   "metadata": {},
   "source": [
    "## Soln 10."
   ]
  },
  {
   "cell_type": "markdown",
   "id": "d5b773f8",
   "metadata": {},
   "source": [
    "The difference is that with append, you just add a new entry at the end of the list. With insert(position, new_entry) you can create a new entry exactly in the position you want."
   ]
  },
  {
   "cell_type": "markdown",
   "id": "2fc2b05b",
   "metadata": {},
   "source": [
    "# Ques 11."
   ]
  },
  {
   "cell_type": "markdown",
   "id": "428ca2a9",
   "metadata": {},
   "source": [
    "What are the two methods for removing items from a list?"
   ]
  },
  {
   "cell_type": "markdown",
   "id": "70872ee1",
   "metadata": {},
   "source": [
    "## Soln 11."
   ]
  },
  {
   "cell_type": "markdown",
   "id": "9f742766",
   "metadata": {},
   "source": [
    "The del statement and the remove() method are two ways to remove values from a list."
   ]
  },
  {
   "cell_type": "markdown",
   "id": "c1d4572e",
   "metadata": {},
   "source": [
    "# Ques 12."
   ]
  },
  {
   "cell_type": "markdown",
   "id": "cb469981",
   "metadata": {},
   "source": [
    "Describe how list values and string values are identical."
   ]
  },
  {
   "cell_type": "markdown",
   "id": "dfb359ac",
   "metadata": {},
   "source": [
    "## Soln 12."
   ]
  },
  {
   "cell_type": "markdown",
   "id": "da4172de",
   "metadata": {},
   "source": [
    "Both lists and strings can be passed to len(), have indexes and slices, be used in for loops, be concatenated or replicated, and be used with the in and not in operators."
   ]
  },
  {
   "cell_type": "markdown",
   "id": "f8c1b609",
   "metadata": {},
   "source": [
    "# Ques 13."
   ]
  },
  {
   "cell_type": "markdown",
   "id": "2e31e743",
   "metadata": {},
   "source": [
    "What's the difference between tuples and lists?"
   ]
  },
  {
   "cell_type": "markdown",
   "id": "f738cc00",
   "metadata": {},
   "source": [
    "## Soln 13."
   ]
  },
  {
   "cell_type": "markdown",
   "id": "9b4e596f",
   "metadata": {},
   "source": [
    "Lists are mutable; they can have values added, removed, or changed.Tuples are immutable; they cannot be changed at all.\n",
    "\n",
    "Also, tuples are written using parentheses, ( and ), while lists use the square brackets, [ and ].\n"
   ]
  },
  {
   "cell_type": "markdown",
   "id": "656ea87c",
   "metadata": {},
   "source": [
    "# Ques 14."
   ]
  },
  {
   "cell_type": "markdown",
   "id": "7075753b",
   "metadata": {},
   "source": [
    "How do you type a tuple value that only contains the integer 42?"
   ]
  },
  {
   "cell_type": "markdown",
   "id": "16131f82",
   "metadata": {},
   "source": [
    "## Soln 14."
   ]
  },
  {
   "cell_type": "markdown",
   "id": "bd26e2f6",
   "metadata": {},
   "source": [
    "(42,) (The trailing comma is mandatory.)"
   ]
  },
  {
   "cell_type": "markdown",
   "id": "ecdd36a4",
   "metadata": {},
   "source": [
    "# Ques 15."
   ]
  },
  {
   "cell_type": "markdown",
   "id": "4ccd4c38",
   "metadata": {},
   "source": [
    "How do you get a list value's tuple form? How do you get a tuple value's list form?"
   ]
  },
  {
   "cell_type": "markdown",
   "id": "b7bb948b",
   "metadata": {},
   "source": [
    "## Soln 15."
   ]
  },
  {
   "cell_type": "markdown",
   "id": "848e9d32",
   "metadata": {},
   "source": [
    "The tuple(list_name) to get a list value's tuple form\n",
    "\n",
    "The list(tuple) functions to get a tuple value's list form\n",
    " "
   ]
  },
  {
   "cell_type": "markdown",
   "id": "a849703c",
   "metadata": {},
   "source": [
    "# Ques 16."
   ]
  },
  {
   "cell_type": "markdown",
   "id": "87a36919",
   "metadata": {},
   "source": [
    "Variables that \"contain\" list values are not necessarily lists themselves. Instead, what do they contain?"
   ]
  },
  {
   "cell_type": "markdown",
   "id": "3d778a43",
   "metadata": {},
   "source": [
    "## Soln 16."
   ]
  },
  {
   "cell_type": "markdown",
   "id": "d06e66cf",
   "metadata": {},
   "source": [
    "Variables will contain references to list values rather than list values themselves. But for strings and integer values, variables simply contain the string or integer value."
   ]
  },
  {
   "cell_type": "markdown",
   "id": "44c411c8",
   "metadata": {},
   "source": [
    "# Ques 17."
   ]
  },
  {
   "cell_type": "markdown",
   "id": "2918b356",
   "metadata": {},
   "source": [
    "How do you distinguish between copy.copy() and copy.deepcopy()?"
   ]
  },
  {
   "cell_type": "markdown",
   "id": "fc842cab",
   "metadata": {},
   "source": [
    "## Soln 17."
   ]
  },
  {
   "cell_type": "markdown",
   "id": "ef1289bc",
   "metadata": {},
   "source": [
    "The copy.copy() function will do a shallow copy of a list. A shallow copy constructs a new compound object and then inserts references into it to the objects found in the original.\n",
    "\n",
    "A deep copy constructs a new compound object and then, recursively, inserts copies into it of the objects found in the original. the copy.deepcopy() function will do a deep copy of a list. i.e., only copy.deepcopy() will duplicate any lists inside the list."
   ]
  },
  {
   "cell_type": "code",
   "execution_count": null,
   "id": "43c5cc7b",
   "metadata": {},
   "outputs": [],
   "source": []
  }
 ],
 "metadata": {
  "kernelspec": {
   "display_name": "Python 3 (ipykernel)",
   "language": "python",
   "name": "python3"
  },
  "language_info": {
   "codemirror_mode": {
    "name": "ipython",
    "version": 3
   },
   "file_extension": ".py",
   "mimetype": "text/x-python",
   "name": "python",
   "nbconvert_exporter": "python",
   "pygments_lexer": "ipython3",
   "version": "3.9.7"
  }
 },
 "nbformat": 4,
 "nbformat_minor": 5
}
