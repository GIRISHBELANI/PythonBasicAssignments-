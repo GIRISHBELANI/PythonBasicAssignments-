{
 "cells": [
  {
   "cell_type": "markdown",
   "id": "dad5a22b",
   "metadata": {},
   "source": [
    "# Ques 1."
   ]
  },
  {
   "cell_type": "markdown",
   "id": "cde4e04b",
   "metadata": {},
   "source": [
    "1.What are the two values of the Boolean data type? How do you write them?"
   ]
  },
  {
   "cell_type": "markdown",
   "id": "fa968999",
   "metadata": {},
   "source": [
    "## Soln 1."
   ]
  },
  {
   "cell_type": "raw",
   "id": "547ae68d",
   "metadata": {},
   "source": [
    "The two values of the Boolean data type are True and False. This are written as first letter always capital and other are in small i.e. \n",
    "True\n",
    "False"
   ]
  },
  {
   "cell_type": "markdown",
   "id": "763e7ce4",
   "metadata": {},
   "source": [
    "# Ques 2.\n"
   ]
  },
  {
   "cell_type": "markdown",
   "id": "c2b72239",
   "metadata": {},
   "source": [
    "2. What are the three different types of Boolean operators?"
   ]
  },
  {
   "cell_type": "markdown",
   "id": "0aeeab21",
   "metadata": {},
   "source": [
    "## Soln 2."
   ]
  },
  {
   "cell_type": "markdown",
   "id": "49f10bef",
   "metadata": {},
   "source": [
    "The three different types of Boolean operators are 'and' , 'or' , and 'not'"
   ]
  },
  {
   "cell_type": "markdown",
   "id": "c9728f01",
   "metadata": {},
   "source": [
    "# Ques 3."
   ]
  },
  {
   "cell_type": "markdown",
   "id": "624e2218",
   "metadata": {},
   "source": [
    "3. Make a list of each Boolean operator's truth tables (i.e. every possible combination of Boolean values for the operator and what it evaluate )."
   ]
  },
  {
   "cell_type": "markdown",
   "id": "0d4d6ab0",
   "metadata": {},
   "source": [
    "## Soln 3."
   ]
  },
  {
   "cell_type": "raw",
   "id": "599204a5",
   "metadata": {},
   "source": [
    "\"and\" Boolean Operator\n",
    " A\t     B     A and B\n",
    "True\tTrue\tTrue\n",
    "False\tTrue\tFalse\n",
    "True\tFalse\tFalse\n",
    "False\tFalse\tFalse\n",
    "\n",
    "\n",
    "\"not\" Boolean Operator\n",
    " A\t    not A\n",
    "True\tFalse\n",
    "False\tTrue\n",
    "\n",
    "\n",
    "\"or\" Boolean Operator\n",
    "A\t     B\t   A or B\n",
    "True\tTrue\tTrue\n",
    "False\tTrue\tTrue\n",
    "True\tFalse\tTrue\n",
    "False\tFalse\tFalse"
   ]
  },
  {
   "cell_type": "markdown",
   "id": "003f3577",
   "metadata": {},
   "source": [
    "# Ques 4."
   ]
  },
  {
   "cell_type": "code",
   "execution_count": null,
   "id": "5f3e5ee5",
   "metadata": {},
   "outputs": [],
   "source": [
    "4. What are the values of the following expressions?\n",
    "(5 > 4) and (3 == 5)\n",
    "not (5 > 4)\n",
    "(5 > 4) or (3 == 5)\n",
    "not ((5 > 4) or (3 == 5))\n",
    "(True and True) and (True == False)\n",
    "(not False) or (not True)\n"
   ]
  },
  {
   "cell_type": "markdown",
   "id": "656293dc",
   "metadata": {},
   "source": [
    "## Soln 4."
   ]
  },
  {
   "cell_type": "code",
   "execution_count": 28,
   "id": "e4a17a5b",
   "metadata": {},
   "outputs": [
    {
     "data": {
      "text/plain": [
       "False"
      ]
     },
     "execution_count": 28,
     "metadata": {},
     "output_type": "execute_result"
    }
   ],
   "source": [
    "(5 > 4) and (3 == 5)"
   ]
  },
  {
   "cell_type": "code",
   "execution_count": 29,
   "id": "2af74801",
   "metadata": {},
   "outputs": [
    {
     "data": {
      "text/plain": [
       "False"
      ]
     },
     "execution_count": 29,
     "metadata": {},
     "output_type": "execute_result"
    }
   ],
   "source": [
    "not (5 > 4)"
   ]
  },
  {
   "cell_type": "code",
   "execution_count": 30,
   "id": "2f879392",
   "metadata": {},
   "outputs": [
    {
     "data": {
      "text/plain": [
       "True"
      ]
     },
     "execution_count": 30,
     "metadata": {},
     "output_type": "execute_result"
    }
   ],
   "source": [
    "(5 > 4) or (3 == 5)"
   ]
  },
  {
   "cell_type": "code",
   "execution_count": 31,
   "id": "ca3f6bc4",
   "metadata": {},
   "outputs": [
    {
     "data": {
      "text/plain": [
       "False"
      ]
     },
     "execution_count": 31,
     "metadata": {},
     "output_type": "execute_result"
    }
   ],
   "source": [
    "not ((5 > 4) or (3 == 5))"
   ]
  },
  {
   "cell_type": "code",
   "execution_count": 32,
   "id": "ebc9805d",
   "metadata": {},
   "outputs": [
    {
     "data": {
      "text/plain": [
       "False"
      ]
     },
     "execution_count": 32,
     "metadata": {},
     "output_type": "execute_result"
    }
   ],
   "source": [
    "(True and True) and (True == False)"
   ]
  },
  {
   "cell_type": "code",
   "execution_count": 33,
   "id": "e32741ca",
   "metadata": {},
   "outputs": [
    {
     "data": {
      "text/plain": [
       "True"
      ]
     },
     "execution_count": 33,
     "metadata": {},
     "output_type": "execute_result"
    }
   ],
   "source": [
    "(not False) or (not True)"
   ]
  },
  {
   "cell_type": "code",
   "execution_count": null,
   "id": "7b09018a",
   "metadata": {},
   "outputs": [],
   "source": []
  },
  {
   "cell_type": "markdown",
   "id": "70b47119",
   "metadata": {},
   "source": [
    "# Ques 5."
   ]
  },
  {
   "cell_type": "markdown",
   "id": "1ec40632",
   "metadata": {},
   "source": [
    "5. What are the six comparison operators?"
   ]
  },
  {
   "cell_type": "markdown",
   "id": "e99920be",
   "metadata": {},
   "source": [
    "## Soln 5."
   ]
  },
  {
   "cell_type": "code",
   "execution_count": null,
   "id": "70f0fe72",
   "metadata": {},
   "outputs": [],
   "source": [
    "The six comparison operators are:\n",
    "equal to                   = \n",
    "not equal to              != \n",
    "greater than               >\n",
    "greater than or equal to   >=\n",
    "less than                  <\n",
    "less than or equal to  <="
   ]
  },
  {
   "cell_type": "code",
   "execution_count": null,
   "id": "70bbf41d",
   "metadata": {},
   "outputs": [],
   "source": []
  },
  {
   "cell_type": "markdown",
   "id": "01f25d14",
   "metadata": {},
   "source": [
    "# Ques 6."
   ]
  },
  {
   "cell_type": "markdown",
   "id": "1964cd81",
   "metadata": {},
   "source": [
    "6. How do you tell the difference between the equal to and assignment operators?Describe a condition and when you would use one."
   ]
  },
  {
   "cell_type": "markdown",
   "id": "57f4e370",
   "metadata": {},
   "source": [
    "## Soln 6."
   ]
  },
  {
   "cell_type": "markdown",
   "id": "ec8e92e0",
   "metadata": {},
   "source": [
    "The “=” is an assignment operator is used to assign the value to the variable.\n",
    "\n",
    "The '==' operator checks whether the two given operands are equal or not. If so, it returns True. Otherwise it returns False"
   ]
  },
  {
   "cell_type": "code",
   "execution_count": 34,
   "id": "8d5fbede",
   "metadata": {},
   "outputs": [
    {
     "data": {
      "text/plain": [
       "False"
      ]
     },
     "execution_count": 34,
     "metadata": {},
     "output_type": "execute_result"
    }
   ],
   "source": [
    "a = 55   # \"=\" assign the value\n",
    "b = 56   # \"=\" assign the value\n",
    "a==b     # \"==\" compare the values of variable"
   ]
  },
  {
   "cell_type": "code",
   "execution_count": null,
   "id": "4cb6562a",
   "metadata": {},
   "outputs": [],
   "source": []
  },
  {
   "cell_type": "markdown",
   "id": "e7a162f2",
   "metadata": {},
   "source": [
    "# Ques 7."
   ]
  },
  {
   "cell_type": "raw",
   "id": "2a0aaa26",
   "metadata": {},
   "source": [
    "7. Identify the three blocks in this code:\n",
    "spam = 0\n",
    "if spam == 10:\n",
    "print('eggs') \n",
    "if spam > 5:\n",
    "print('bacon')\n",
    "else:\n",
    "print('ham')\n",
    "print('spam')\n",
    "print('spam')\n"
   ]
  },
  {
   "cell_type": "markdown",
   "id": "48ccbcd8",
   "metadata": {},
   "source": [
    "## Soln 7."
   ]
  },
  {
   "cell_type": "code",
   "execution_count": 16,
   "id": "f29c8428",
   "metadata": {},
   "outputs": [
    {
     "name": "stdout",
     "output_type": "stream",
     "text": [
      "spam\n"
     ]
    }
   ],
   "source": [
    "spam = 0\n",
    "if spam == 10:\n",
    "    print('eggs')        # indent increased, block A\n",
    "    if spam > 5:         # still block A\n",
    "        print('bacon')   # still block A, indent increased, block B inside block A\n",
    "    else:                # still block A, indent decreased, block B ended in line above\n",
    "        print('ham')     # still block A, indent increased, block C inside block A\n",
    "    print('spam')        # still block A, indent decreased, block C ended in line above\n",
    "print('spam')            # indent decreased, block A ended in line above\n",
    "\n",
    "\n",
    "# The three blocks are everything inside the if statement and the lines print('bacon') and print('ham').\n"
   ]
  },
  {
   "cell_type": "markdown",
   "id": "9d764922",
   "metadata": {},
   "source": [
    "# Ques 8."
   ]
  },
  {
   "cell_type": "markdown",
   "id": "6e970cf1",
   "metadata": {},
   "source": [
    "8. Write code that prints Hello if 1 is stored in spam, prints Howdy if 2 is stored in spam, and prints Greetings! if anything else is stored in spam."
   ]
  },
  {
   "cell_type": "markdown",
   "id": "9109dc42",
   "metadata": {},
   "source": [
    "## Soln 8."
   ]
  },
  {
   "cell_type": "code",
   "execution_count": 40,
   "id": "86c2b458",
   "metadata": {},
   "outputs": [
    {
     "name": "stdout",
     "output_type": "stream",
     "text": [
      "spam =55\n",
      "Greetings!\n"
     ]
    }
   ],
   "source": [
    "n = int(input('spam ='))\n",
    "\n",
    "if n == 1 :\n",
    "    print('Hello')\n",
    "elif n == 2 :\n",
    "    print('Howdy')\n",
    "else :\n",
    "    print('Greetings!')"
   ]
  },
  {
   "cell_type": "markdown",
   "id": "83629c52",
   "metadata": {},
   "source": [
    "# Ques 9."
   ]
  },
  {
   "cell_type": "markdown",
   "id": "2067ae98",
   "metadata": {},
   "source": [
    "9.If your programme is stuck in an endless loop, what keys you’ll press?"
   ]
  },
  {
   "cell_type": "markdown",
   "id": "1a79a4a8",
   "metadata": {},
   "source": [
    "## Soln 9."
   ]
  },
  {
   "cell_type": "code",
   "execution_count": null,
   "id": "4fb890d5",
   "metadata": {},
   "outputs": [],
   "source": [
    "To exit out from an endless loop, we will press 'Ctrl - C'"
   ]
  },
  {
   "cell_type": "markdown",
   "id": "8bc760c1",
   "metadata": {},
   "source": [
    "# Ques 10."
   ]
  },
  {
   "cell_type": "markdown",
   "id": "dcd94fce",
   "metadata": {},
   "source": [
    "10. How can you tell the difference between break and continue?"
   ]
  },
  {
   "cell_type": "markdown",
   "id": "4bf155e3",
   "metadata": {},
   "source": [
    "## Soln 10."
   ]
  },
  {
   "cell_type": "markdown",
   "id": "c4acbe05",
   "metadata": {},
   "source": [
    "\n",
    "Break statements exist to exit or “break” a python for loop or while conditional loop. When the loop ends, the code picks up from and executes the next line immediately following the loop that was broken. The 'break 'stop the continuation of the loop. It used with the 'switch', 'label'.\n",
    "\n",
    "The continue statement is used to skip code within a loop for certain iterations of the loop. After the code is skipped, the loop continues where it left off.\n",
    "\n",
    "\n"
   ]
  },
  {
   "cell_type": "markdown",
   "id": "2fc2b05b",
   "metadata": {},
   "source": [
    "# Ques 11."
   ]
  },
  {
   "cell_type": "markdown",
   "id": "f752f968",
   "metadata": {},
   "source": [
    "11. In a for loop, what is the difference between range(10), range(0, 10), and range(0, 10, 1)?"
   ]
  },
  {
   "cell_type": "markdown",
   "id": "70872ee1",
   "metadata": {},
   "source": [
    "## Soln 11."
   ]
  },
  {
   "cell_type": "markdown",
   "id": "b8b69722",
   "metadata": {},
   "source": [
    "range(10) --- represents that the range is exists from 0 to 9 excluding end point 10\n",
    "\n",
    "range(0,10) ---  represents that the range is exists from starting point '0' to '9' excluding end point '10'\n",
    "\n",
    "range(0, 10, 1) --- represents that the range is exists from starting point '0' to '9' excluding end point '10' with bydefault stepsize '1'\n",
    "\n",
    "Basically all are same only way of writing is different"
   ]
  },
  {
   "cell_type": "markdown",
   "id": "c1d4572e",
   "metadata": {},
   "source": [
    "# Ques 12."
   ]
  },
  {
   "cell_type": "markdown",
   "id": "88eb3c32",
   "metadata": {},
   "source": [
    "12. Write a short program that prints the numbers 1 to 10 using a for loop. Then write an equivalent program that prints the numbers 1 to 10 using a while loop."
   ]
  },
  {
   "cell_type": "markdown",
   "id": "dfb359ac",
   "metadata": {},
   "source": [
    "## Soln 12."
   ]
  },
  {
   "cell_type": "code",
   "execution_count": 41,
   "id": "4dbf722c",
   "metadata": {},
   "outputs": [
    {
     "name": "stdout",
     "output_type": "stream",
     "text": [
      "1\n",
      "2\n",
      "3\n",
      "4\n",
      "5\n",
      "6\n",
      "7\n",
      "8\n",
      "9\n",
      "10\n"
     ]
    }
   ],
   "source": [
    "#  print the numbers 1 to 10 using a for loop\n",
    "\n",
    "for i in range(1,11) :\n",
    "    print(i)\n",
    "i = i+1"
   ]
  },
  {
   "cell_type": "code",
   "execution_count": 50,
   "id": "fd0f5ff7",
   "metadata": {
    "scrolled": false
   },
   "outputs": [
    {
     "name": "stdout",
     "output_type": "stream",
     "text": [
      "1\n",
      "2\n",
      "3\n",
      "4\n",
      "5\n",
      "6\n",
      "7\n",
      "8\n",
      "9\n",
      "10\n"
     ]
    }
   ],
   "source": [
    "#  print the numbers 1 to 10 using a while loop\n",
    " \n",
    "count = 1\n",
    "while count <= 10 :\n",
    "    print(count)\n",
    "    count = count + 1\n",
    "  "
   ]
  },
  {
   "cell_type": "code",
   "execution_count": null,
   "id": "1d53cb39",
   "metadata": {},
   "outputs": [],
   "source": []
  },
  {
   "cell_type": "markdown",
   "id": "f8c1b609",
   "metadata": {},
   "source": [
    "# Ques 13."
   ]
  },
  {
   "cell_type": "markdown",
   "id": "6c73bcc7",
   "metadata": {},
   "source": [
    "13. If you had a function named bacon() inside a module named spam, how would you call it after importing spam?"
   ]
  },
  {
   "cell_type": "markdown",
   "id": "f738cc00",
   "metadata": {},
   "source": [
    "## Soln 13."
   ]
  },
  {
   "cell_type": "markdown",
   "id": "b652ddaf",
   "metadata": {},
   "source": [
    "This function can be called with spam.bacon()"
   ]
  },
  {
   "cell_type": "code",
   "execution_count": null,
   "id": "399e1381",
   "metadata": {},
   "outputs": [],
   "source": []
  }
 ],
 "metadata": {
  "kernelspec": {
   "display_name": "Python 3 (ipykernel)",
   "language": "python",
   "name": "python3"
  },
  "language_info": {
   "codemirror_mode": {
    "name": "ipython",
    "version": 3
   },
   "file_extension": ".py",
   "mimetype": "text/x-python",
   "name": "python",
   "nbconvert_exporter": "python",
   "pygments_lexer": "ipython3",
   "version": "3.9.7"
  }
 },
 "nbformat": 4,
 "nbformat_minor": 5
}
