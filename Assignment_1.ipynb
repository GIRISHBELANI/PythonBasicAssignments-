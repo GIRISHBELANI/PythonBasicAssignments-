{
 "cells": [
  {
   "cell_type": "markdown",
   "id": "361f99aa",
   "metadata": {},
   "source": [
    "# Ques 1."
   ]
  },
  {
   "cell_type": "code",
   "execution_count": null,
   "id": "0f308b49",
   "metadata": {},
   "outputs": [],
   "source": [
    "1. In the below elements which of them are values or an expression? eg:- values can be integer or string and expressions will be mathematical operators.\n",
    "\n",
    "* \n",
    "'hello'\n",
    "-87.8\n",
    "- \n",
    "/ \n",
    "+\n",
    "6 \n"
   ]
  },
  {
   "cell_type": "markdown",
   "id": "23624dc5",
   "metadata": {},
   "source": [
    "## Soln 1."
   ]
  },
  {
   "cell_type": "code",
   "execution_count": null,
   "id": "bed257e3",
   "metadata": {},
   "outputs": [],
   "source": [
    "*         ----   expression\n",
    "'hello'   ----   values\n",
    "-87.8     ----   values\n",
    "-         ----   expression\n",
    "/         ----   expression\n",
    "+         ----   expression\n",
    "6         ----   values\n"
   ]
  },
  {
   "cell_type": "markdown",
   "id": "7e14de59",
   "metadata": {},
   "source": [
    "# Ques 2.\n"
   ]
  },
  {
   "cell_type": "markdown",
   "id": "004f5fa1",
   "metadata": {},
   "source": [
    "2. What is the difference between string and variable?"
   ]
  },
  {
   "cell_type": "markdown",
   "id": "2e17fa14",
   "metadata": {},
   "source": [
    "## Soln 2."
   ]
  },
  {
   "cell_type": "markdown",
   "id": "806e0e04",
   "metadata": {},
   "source": [
    "String is a type of information can be stored in a Variable. A String is usually words, enclosed with \"\".\n",
    "\n",
    "A Variable is a store of information in a memory location. A variable is created when you assign a value to it.\n",
    "\n",
    "Ex. a = \"iNeuron\"  # here iNeuron (\"string\") is a information assign to variable 'a'"
   ]
  },
  {
   "cell_type": "markdown",
   "id": "112dc306",
   "metadata": {},
   "source": [
    "# Ques 3."
   ]
  },
  {
   "cell_type": "markdown",
   "id": "82955f7b",
   "metadata": {},
   "source": [
    "3. Describe three different data types."
   ]
  },
  {
   "cell_type": "markdown",
   "id": "de8c2075",
   "metadata": {},
   "source": [
    "## Soln 3."
   ]
  },
  {
   "cell_type": "raw",
   "id": "34d59f27",
   "metadata": {},
   "source": [
    "1. Text Type      :\tstr\n",
    "    A string is a collection of one or more characters put in a single quote, double-quote or triple quote\n",
    "\n",
    "\n",
    "2. Numeric Types  :\tint, float, complex\n",
    "    Numeric data type represent the data which has numeric value. Numeric value can be integer,floating number or complex no.\n",
    "    \n",
    "    Integers – It contains positive or negative whole numbers (without fraction or decimal). \n",
    "\n",
    "    Float – It is a real number with floating point representation. \n",
    "\n",
    "    Complex Numbers – It is specified as (real part) + j(imaginary part). For example – 2+3j\n",
    "\n",
    "3. Boolean Type   :\tbool\n",
    "    It is used to represent the truth values of the expressions. It gives two values : True or False\n"
   ]
  },
  {
   "cell_type": "markdown",
   "id": "529cf456",
   "metadata": {},
   "source": [
    "# Ques 4."
   ]
  },
  {
   "cell_type": "markdown",
   "id": "fa67cdf9",
   "metadata": {},
   "source": [
    "4. What is an expression made up of? What do all expressions do?"
   ]
  },
  {
   "cell_type": "markdown",
   "id": "dbf3062d",
   "metadata": {},
   "source": [
    "## Soln 4."
   ]
  },
  {
   "cell_type": "code",
   "execution_count": null,
   "id": "bb148113",
   "metadata": {},
   "outputs": [],
   "source": [
    "An expression is a combination of values, variables, operators, and calls to functions. Expressions need to be evaluated. \n",
    "Ex. in Python to print an expression, the interpreter evaluates the expression and displays the result."
   ]
  },
  {
   "cell_type": "markdown",
   "id": "99b45559",
   "metadata": {},
   "source": [
    "# Ques 5."
   ]
  },
  {
   "cell_type": "markdown",
   "id": "fa79ec63",
   "metadata": {},
   "source": [
    "5. This assignment statements, like spam = 10. What is the difference between an expression and a statement?"
   ]
  },
  {
   "cell_type": "markdown",
   "id": "be8cd4a3",
   "metadata": {},
   "source": [
    "## Soln 5."
   ]
  },
  {
   "cell_type": "raw",
   "id": "18e90e19",
   "metadata": {},
   "source": [
    "Expression is a combination of values and functions that are combined and interpreted by the compiler to create a new value. It always returns a result value.\n",
    "\n",
    "Statement may or may not produces or displays a result value, it only does whatever the statement says."
   ]
  },
  {
   "cell_type": "markdown",
   "id": "352b208b",
   "metadata": {},
   "source": [
    "# Ques 6."
   ]
  },
  {
   "cell_type": "raw",
   "id": "c039c23e",
   "metadata": {},
   "source": [
    "6. After running the following code, what does the variable bacon contain?\n",
    "bacon = 22\n",
    "bacon + 1\n"
   ]
  },
  {
   "cell_type": "markdown",
   "id": "47a63ffb",
   "metadata": {},
   "source": [
    "## Soln 6."
   ]
  },
  {
   "cell_type": "markdown",
   "id": "5ec9efb0",
   "metadata": {},
   "source": [
    "After running code, the variable bacon contains value 23"
   ]
  },
  {
   "cell_type": "code",
   "execution_count": 10,
   "id": "692c8168",
   "metadata": {},
   "outputs": [
    {
     "data": {
      "text/plain": [
       "23"
      ]
     },
     "execution_count": 10,
     "metadata": {},
     "output_type": "execute_result"
    }
   ],
   "source": [
    "bacon = 22\n",
    "bacon + 1"
   ]
  },
  {
   "cell_type": "markdown",
   "id": "f4239caa",
   "metadata": {},
   "source": [
    "# Ques 7."
   ]
  },
  {
   "cell_type": "raw",
   "id": "13479fea",
   "metadata": {},
   "source": [
    "7. What should the values of the following two terms be?\n",
    "'spam' + 'spamspam'\n",
    "'spam' * 3\n"
   ]
  },
  {
   "cell_type": "markdown",
   "id": "f9a6d336",
   "metadata": {},
   "source": [
    "## Soln 7."
   ]
  },
  {
   "cell_type": "markdown",
   "id": "628549f5",
   "metadata": {},
   "source": [
    "Both terms gives same values = 'spamspamspam'"
   ]
  },
  {
   "cell_type": "code",
   "execution_count": 11,
   "id": "ece67fd7",
   "metadata": {},
   "outputs": [
    {
     "data": {
      "text/plain": [
       "'spamspamspam'"
      ]
     },
     "execution_count": 11,
     "metadata": {},
     "output_type": "execute_result"
    }
   ],
   "source": [
    "'spam' + 'spamspam'"
   ]
  },
  {
   "cell_type": "code",
   "execution_count": 12,
   "id": "20a05f93",
   "metadata": {},
   "outputs": [
    {
     "data": {
      "text/plain": [
       "'spamspamspam'"
      ]
     },
     "execution_count": 12,
     "metadata": {},
     "output_type": "execute_result"
    }
   ],
   "source": [
    "'spam' * 3"
   ]
  },
  {
   "cell_type": "markdown",
   "id": "54982bab",
   "metadata": {},
   "source": [
    "# Ques 8."
   ]
  },
  {
   "cell_type": "markdown",
   "id": "97de772b",
   "metadata": {},
   "source": [
    "8. Why is eggs a valid variable name while 100 is invalid?"
   ]
  },
  {
   "cell_type": "markdown",
   "id": "ed05d077",
   "metadata": {},
   "source": [
    "## Soln 8."
   ]
  },
  {
   "cell_type": "code",
   "execution_count": null,
   "id": "feb5b398",
   "metadata": {},
   "outputs": [],
   "source": [
    "A valid Variable always contains alphabets or (aplhabets)+(integer). An integer seperately cannot be a valid variable\n",
    "\n",
    "Ex. eggs, eggs100 are valid variables but \n",
    "    100 (or any other number) starts with integer not a variable"
   ]
  },
  {
   "cell_type": "markdown",
   "id": "c8854a69",
   "metadata": {},
   "source": [
    "# Ques 9."
   ]
  },
  {
   "cell_type": "markdown",
   "id": "3d82a592",
   "metadata": {},
   "source": [
    "9. What three functions can be used to get the integer, floating-point number, or string version of a value?"
   ]
  },
  {
   "cell_type": "markdown",
   "id": "36b3ed8f",
   "metadata": {},
   "source": [
    "## Soln 9."
   ]
  },
  {
   "cell_type": "code",
   "execution_count": null,
   "id": "d077b8cc",
   "metadata": {},
   "outputs": [],
   "source": [
    "To get integer --- int() used\n",
    "To get floating-point number ---  float() used\n",
    "To get string --- str() used\n"
   ]
  },
  {
   "cell_type": "markdown",
   "id": "2df42bad",
   "metadata": {},
   "source": [
    "# Ques 10."
   ]
  },
  {
   "cell_type": "markdown",
   "id": "ea76c4c8",
   "metadata": {},
   "source": [
    "10. Why does this expression cause an error? How can you fix it?\n",
    "'I have eaten ' + 99 + ' burritos.'\n"
   ]
  },
  {
   "cell_type": "markdown",
   "id": "17e2ef1d",
   "metadata": {},
   "source": [
    "## Soln 10."
   ]
  },
  {
   "cell_type": "markdown",
   "id": "ffa9a6fd",
   "metadata": {},
   "source": [
    "expression cause an error because on concatenation only same type of data can concatenate\n",
    "99 is an integer not a string. that's the reason for error\n",
    "it can be fixed by typecasting integer into string\n"
   ]
  },
  {
   "cell_type": "code",
   "execution_count": 13,
   "id": "7e1f27f6",
   "metadata": {},
   "outputs": [
    {
     "ename": "TypeError",
     "evalue": "can only concatenate str (not \"int\") to str",
     "output_type": "error",
     "traceback": [
      "\u001b[1;31m---------------------------------------------------------------------------\u001b[0m",
      "\u001b[1;31mTypeError\u001b[0m                                 Traceback (most recent call last)",
      "\u001b[1;32m~\\AppData\\Local\\Temp/ipykernel_10248/1774935878.py\u001b[0m in \u001b[0;36m<module>\u001b[1;34m\u001b[0m\n\u001b[1;32m----> 1\u001b[1;33m \u001b[1;34m'I have eaten '\u001b[0m \u001b[1;33m+\u001b[0m \u001b[1;36m99\u001b[0m \u001b[1;33m+\u001b[0m \u001b[1;34m' burritos.'\u001b[0m\u001b[1;33m\u001b[0m\u001b[1;33m\u001b[0m\u001b[0m\n\u001b[0m",
      "\u001b[1;31mTypeError\u001b[0m: can only concatenate str (not \"int\") to str"
     ]
    }
   ],
   "source": [
    "'I have eaten ' + 99 + ' burritos.'"
   ]
  },
  {
   "cell_type": "code",
   "execution_count": 14,
   "id": "36d44417",
   "metadata": {},
   "outputs": [
    {
     "data": {
      "text/plain": [
       "'I have eaten 99 burritos.'"
      ]
     },
     "execution_count": 14,
     "metadata": {},
     "output_type": "execute_result"
    }
   ],
   "source": [
    "'I have eaten ' +\"99\" + ' burritos.'    # method 1"
   ]
  },
  {
   "cell_type": "code",
   "execution_count": 15,
   "id": "bdb74086",
   "metadata": {},
   "outputs": [
    {
     "data": {
      "text/plain": [
       "'I have eaten 99 burritos.'"
      ]
     },
     "execution_count": 15,
     "metadata": {},
     "output_type": "execute_result"
    }
   ],
   "source": [
    "'I have eaten ' + str(99) + ' burritos.'       # method 2"
   ]
  },
  {
   "cell_type": "code",
   "execution_count": null,
   "id": "d09b0074",
   "metadata": {},
   "outputs": [],
   "source": []
  }
 ],
 "metadata": {
  "kernelspec": {
   "display_name": "Python 3 (ipykernel)",
   "language": "python",
   "name": "python3"
  },
  "language_info": {
   "codemirror_mode": {
    "name": "ipython",
    "version": 3
   },
   "file_extension": ".py",
   "mimetype": "text/x-python",
   "name": "python",
   "nbconvert_exporter": "python",
   "pygments_lexer": "ipython3",
   "version": "3.9.7"
  }
 },
 "nbformat": 4,
 "nbformat_minor": 5
}
